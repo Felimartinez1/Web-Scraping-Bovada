{
 "cells": [
  {
   "cell_type": "markdown",
   "id": "e9693099",
   "metadata": {},
   "source": [
    "### Installing some tools"
   ]
  },
  {
   "cell_type": "code",
   "execution_count": 38,
   "id": "127fc59d",
   "metadata": {},
   "outputs": [
    {
     "name": "stdout",
     "output_type": "stream",
     "text": [
      "Requirement already satisfied: selenium in c:\\users\\felipe\\anaconda3\\lib\\site-packages (4.10.0)\n",
      "Requirement already satisfied: urllib3[socks]<3,>=1.26 in c:\\users\\felipe\\anaconda3\\lib\\site-packages (from selenium) (1.26.9)\n",
      "Requirement already satisfied: trio~=0.17 in c:\\users\\felipe\\anaconda3\\lib\\site-packages (from selenium) (0.22.0)\n",
      "Requirement already satisfied: trio-websocket~=0.9 in c:\\users\\felipe\\anaconda3\\lib\\site-packages (from selenium) (0.10.3)\n",
      "Requirement already satisfied: certifi>=2021.10.8 in c:\\users\\felipe\\anaconda3\\lib\\site-packages (from selenium) (2021.10.8)\n",
      "Requirement already satisfied: idna in c:\\users\\felipe\\anaconda3\\lib\\site-packages (from trio~=0.17->selenium) (3.3)\n",
      "Requirement already satisfied: exceptiongroup>=1.0.0rc9 in c:\\users\\felipe\\anaconda3\\lib\\site-packages (from trio~=0.17->selenium) (1.1.1)\n",
      "Requirement already satisfied: sortedcontainers in c:\\users\\felipe\\anaconda3\\lib\\site-packages (from trio~=0.17->selenium) (2.4.0)\n",
      "Requirement already satisfied: async-generator>=1.9 in c:\\users\\felipe\\anaconda3\\lib\\site-packages (from trio~=0.17->selenium) (1.10)\n",
      "Requirement already satisfied: sniffio in c:\\users\\felipe\\anaconda3\\lib\\site-packages (from trio~=0.17->selenium) (1.2.0)\n",
      "Requirement already satisfied: cffi>=1.14 in c:\\users\\felipe\\anaconda3\\lib\\site-packages (from trio~=0.17->selenium) (1.15.0)\n",
      "Requirement already satisfied: outcome in c:\\users\\felipe\\anaconda3\\lib\\site-packages (from trio~=0.17->selenium) (1.2.0)\n",
      "Requirement already satisfied: attrs>=19.2.0 in c:\\users\\felipe\\anaconda3\\lib\\site-packages (from trio~=0.17->selenium) (21.4.0)\n",
      "Requirement already satisfied: pycparser in c:\\users\\felipe\\anaconda3\\lib\\site-packages (from cffi>=1.14->trio~=0.17->selenium) (2.21)\n",
      "Requirement already satisfied: wsproto>=0.14 in c:\\users\\felipe\\anaconda3\\lib\\site-packages (from trio-websocket~=0.9->selenium) (1.2.0)\n",
      "Requirement already satisfied: PySocks!=1.5.7,<2.0,>=1.5.6 in c:\\users\\felipe\\anaconda3\\lib\\site-packages (from urllib3[socks]<3,>=1.26->selenium) (1.7.1)\n",
      "Requirement already satisfied: h11<1,>=0.9.0 in c:\\users\\felipe\\anaconda3\\lib\\site-packages (from wsproto>=0.14->trio-websocket~=0.9->selenium) (0.14.0)\n"
     ]
    }
   ],
   "source": [
    "!pip install selenium"
   ]
  },
  {
   "cell_type": "code",
   "execution_count": 39,
   "id": "8ffa5625",
   "metadata": {},
   "outputs": [
    {
     "name": "stdout",
     "output_type": "stream",
     "text": [
      "Requirement already satisfied: gspread in c:\\users\\felipe\\anaconda3\\lib\\site-packages (5.10.0)\n",
      "Requirement already satisfied: google-auth>=1.12.0 in c:\\users\\felipe\\anaconda3\\lib\\site-packages (from gspread) (2.17.3)\n",
      "Requirement already satisfied: google-auth-oauthlib>=0.4.1 in c:\\users\\felipe\\anaconda3\\lib\\site-packages (from gspread) (1.0.0)\n",
      "Requirement already satisfied: rsa<5,>=3.1.4 in c:\\users\\felipe\\anaconda3\\lib\\site-packages (from google-auth>=1.12.0->gspread) (4.7.2)\n",
      "Requirement already satisfied: pyasn1-modules>=0.2.1 in c:\\users\\felipe\\anaconda3\\lib\\site-packages (from google-auth>=1.12.0->gspread) (0.2.8)\n",
      "Requirement already satisfied: cachetools<6.0,>=2.0.0 in c:\\users\\felipe\\anaconda3\\lib\\site-packages (from google-auth>=1.12.0->gspread) (4.2.2)\n",
      "Requirement already satisfied: six>=1.9.0 in c:\\users\\felipe\\anaconda3\\lib\\site-packages (from google-auth>=1.12.0->gspread) (1.16.0)\n",
      "Requirement already satisfied: requests-oauthlib>=0.7.0 in c:\\users\\felipe\\anaconda3\\lib\\site-packages (from google-auth-oauthlib>=0.4.1->gspread) (1.3.1)\n",
      "Requirement already satisfied: pyasn1<0.5.0,>=0.4.6 in c:\\users\\felipe\\anaconda3\\lib\\site-packages (from pyasn1-modules>=0.2.1->google-auth>=1.12.0->gspread) (0.4.8)\n",
      "Requirement already satisfied: oauthlib>=3.0.0 in c:\\users\\felipe\\anaconda3\\lib\\site-packages (from requests-oauthlib>=0.7.0->google-auth-oauthlib>=0.4.1->gspread) (3.2.2)\n",
      "Requirement already satisfied: requests>=2.0.0 in c:\\users\\felipe\\anaconda3\\lib\\site-packages (from requests-oauthlib>=0.7.0->google-auth-oauthlib>=0.4.1->gspread) (2.27.1)\n",
      "Requirement already satisfied: idna<4,>=2.5 in c:\\users\\felipe\\anaconda3\\lib\\site-packages (from requests>=2.0.0->requests-oauthlib>=0.7.0->google-auth-oauthlib>=0.4.1->gspread) (3.3)\n",
      "Requirement already satisfied: charset-normalizer~=2.0.0 in c:\\users\\felipe\\anaconda3\\lib\\site-packages (from requests>=2.0.0->requests-oauthlib>=0.7.0->google-auth-oauthlib>=0.4.1->gspread) (2.0.4)\n",
      "Requirement already satisfied: certifi>=2017.4.17 in c:\\users\\felipe\\anaconda3\\lib\\site-packages (from requests>=2.0.0->requests-oauthlib>=0.7.0->google-auth-oauthlib>=0.4.1->gspread) (2021.10.8)\n",
      "Requirement already satisfied: urllib3<1.27,>=1.21.1 in c:\\users\\felipe\\anaconda3\\lib\\site-packages (from requests>=2.0.0->requests-oauthlib>=0.7.0->google-auth-oauthlib>=0.4.1->gspread) (1.26.9)\n"
     ]
    }
   ],
   "source": [
    "!pip install gspread"
   ]
  },
  {
   "cell_type": "code",
   "execution_count": 40,
   "id": "be2491fd",
   "metadata": {},
   "outputs": [
    {
     "name": "stdout",
     "output_type": "stream",
     "text": [
      "Requirement already satisfied: oauth2client in c:\\users\\felipe\\anaconda3\\lib\\site-packages (4.1.3)\n",
      "Requirement already satisfied: httplib2>=0.9.1 in c:\\users\\felipe\\anaconda3\\lib\\site-packages (from oauth2client) (0.22.0)\n",
      "Requirement already satisfied: pyasn1-modules>=0.0.5 in c:\\users\\felipe\\anaconda3\\lib\\site-packages (from oauth2client) (0.2.8)\n",
      "Requirement already satisfied: pyasn1>=0.1.7 in c:\\users\\felipe\\anaconda3\\lib\\site-packages (from oauth2client) (0.4.8)\n",
      "Requirement already satisfied: rsa>=3.1.4 in c:\\users\\felipe\\anaconda3\\lib\\site-packages (from oauth2client) (4.7.2)\n",
      "Requirement already satisfied: six>=1.6.1 in c:\\users\\felipe\\anaconda3\\lib\\site-packages (from oauth2client) (1.16.0)\n",
      "Requirement already satisfied: pyparsing!=3.0.0,!=3.0.1,!=3.0.2,!=3.0.3,<4,>=2.4.2 in c:\\users\\felipe\\anaconda3\\lib\\site-packages (from httplib2>=0.9.1->oauth2client) (3.0.4)\n"
     ]
    }
   ],
   "source": [
    "!pip install oauth2client"
   ]
  },
  {
   "cell_type": "markdown",
   "id": "b3e3878c",
   "metadata": {},
   "source": [
    "Install chrome driver if you run from local: https://chromedriver.chromium.org/downloads"
   ]
  },
  {
   "cell_type": "markdown",
   "id": "bb8e478a",
   "metadata": {},
   "source": [
    "### Importing Libraries"
   ]
  },
  {
   "cell_type": "code",
   "execution_count": 41,
   "id": "8a70d122",
   "metadata": {},
   "outputs": [],
   "source": [
    "from selenium import webdriver\n",
    "from selenium.webdriver.chrome.options import Options\n",
    "import time\n",
    "import pandas as pd\n",
    "import gspread\n",
    "from oauth2client.service_account import ServiceAccountCredentials"
   ]
  },
  {
   "cell_type": "markdown",
   "id": "222737b7",
   "metadata": {},
   "source": [
    "### Scraping Game-lines Data"
   ]
  },
  {
   "cell_type": "markdown",
   "id": "96f1fb85",
   "metadata": {},
   "source": [
    "Important: You may need to run this cell more than once for it to work."
   ]
  },
  {
   "cell_type": "code",
   "execution_count": 43,
   "id": "0d4a1476",
   "metadata": {},
   "outputs": [
    {
     "name": "stdout",
     "output_type": "stream",
     "text": [
      "Pittsburgh Pirates: Away\n",
      "San Diego Padres: Home\n",
      "Total: 8.5\n",
      "\n",
      "St. Louis Cardinals: Away\n",
      "Arizona Diamondbacks: Home\n",
      "Total: 8.5\n",
      "\n",
      "Toronto Blue Jays: Away\n",
      "Los Angeles Dodgers: Home\n",
      "Total: 10.5\n",
      "\n"
     ]
    }
   ],
   "source": [
    "chrome_options = Options()\n",
    "driver = webdriver.Chrome(options=chrome_options)\n",
    "driver.get('https://bovada.lv/es/sports/baseball/mlb?overlay=register')\n",
    "time.sleep(5)\n",
    "\n",
    "grouped_events = driver.find_element('xpath', '(//div[@class=\"next-events-bucket\"]//div[@class=\"grouped-events\"])[1]')\n",
    "\n",
    "teams = grouped_events.find_elements('xpath', './/span[@class=\"name\"]')\n",
    "\n",
    "teams_list = []\n",
    "\n",
    "for team in teams:\n",
    "    teams_list.append(team.text)\n",
    "\n",
    "teams_away = teams_list[::2]\n",
    "teams_home = teams_list[1::2]\n",
    "\n",
    "scores = grouped_events.find_elements('xpath', './/span[@class=\"market-line bet-handicap both-handicaps\"]')\n",
    "\n",
    "total = []\n",
    "\n",
    "for score in scores:\n",
    "    total.append(score.text)\n",
    "\n",
    "for team_away, team_home, score in zip(teams_away, teams_home, total):\n",
    "    print(f\"{team_away}: Away\")\n",
    "    print(f\"{team_home}: Home\")\n",
    "    print(f\"Total: {score}\")\n",
    "    print()\n",
    "\n",
    "driver.quit()"
   ]
  },
  {
   "cell_type": "markdown",
   "id": "c279c54c",
   "metadata": {},
   "source": [
    "### Creating Game-lines DataFrame"
   ]
  },
  {
   "cell_type": "code",
   "execution_count": 44,
   "id": "575a1d57",
   "metadata": {},
   "outputs": [
    {
     "data": {
      "text/html": [
       "<div>\n",
       "<style scoped>\n",
       "    .dataframe tbody tr th:only-of-type {\n",
       "        vertical-align: middle;\n",
       "    }\n",
       "\n",
       "    .dataframe tbody tr th {\n",
       "        vertical-align: top;\n",
       "    }\n",
       "\n",
       "    .dataframe thead th {\n",
       "        text-align: right;\n",
       "    }\n",
       "</style>\n",
       "<table border=\"1\" class=\"dataframe\">\n",
       "  <thead>\n",
       "    <tr style=\"text-align: right;\">\n",
       "      <th></th>\n",
       "      <th>Away</th>\n",
       "      <th>Home</th>\n",
       "      <th>Total</th>\n",
       "    </tr>\n",
       "  </thead>\n",
       "  <tbody>\n",
       "    <tr>\n",
       "      <th>0</th>\n",
       "      <td>Pittsburgh Pirates</td>\n",
       "      <td>San Diego Padres</td>\n",
       "      <td>8.5</td>\n",
       "    </tr>\n",
       "    <tr>\n",
       "      <th>1</th>\n",
       "      <td>St. Louis Cardinals</td>\n",
       "      <td>Arizona Diamondbacks</td>\n",
       "      <td>8.5</td>\n",
       "    </tr>\n",
       "    <tr>\n",
       "      <th>2</th>\n",
       "      <td>Toronto Blue Jays</td>\n",
       "      <td>Los Angeles Dodgers</td>\n",
       "      <td>10.5</td>\n",
       "    </tr>\n",
       "  </tbody>\n",
       "</table>\n",
       "</div>"
      ],
      "text/plain": [
       "                  Away                  Home Total\n",
       "0   Pittsburgh Pirates      San Diego Padres   8.5\n",
       "1  St. Louis Cardinals  Arizona Diamondbacks   8.5\n",
       "2    Toronto Blue Jays   Los Angeles Dodgers  10.5"
      ]
     },
     "execution_count": 44,
     "metadata": {},
     "output_type": "execute_result"
    }
   ],
   "source": [
    "data = list(zip(teams_away, teams_home, total))\n",
    "\n",
    "gamelines_df = pd.DataFrame(data, columns=['Away', 'Home', 'Total'])\n",
    "gamelines_df"
   ]
  },
  {
   "cell_type": "markdown",
   "id": "78932f0a",
   "metadata": {},
   "source": [
    "### Scraping 5-Inning-lines Data"
   ]
  },
  {
   "cell_type": "markdown",
   "id": "93a4daa3",
   "metadata": {},
   "source": [
    "Important: You may need to run this cell more than once for it to work."
   ]
  },
  {
   "cell_type": "code",
   "execution_count": 45,
   "id": "8f527e07",
   "metadata": {},
   "outputs": [
    {
     "name": "stdout",
     "output_type": "stream",
     "text": [
      "Pittsburgh Pirates: Away\n",
      "San Diego Padres: Home\n",
      "Total: 4.5\n",
      "\n",
      "St. Louis Cardinals: Away\n",
      "Arizona Diamondbacks: Home\n",
      "Total: 4.5\n",
      "\n",
      "Toronto Blue Jays: Away\n",
      "Los Angeles Dodgers: Home\n",
      "Total: 6.0\n",
      "\n"
     ]
    }
   ],
   "source": [
    "chrome_options1 = Options()\n",
    "driver1 = webdriver.Chrome(options=chrome_options1)\n",
    "driver1.get('https://www.bovada.lv/es/sports/beisbol/lineas-para-las-primeras-5-entradas-cuotas?overlay=register') ### if your browser is in english\n",
    "                                                                                        ### you should change the link to this:\n",
    "                                                                                        ### https://bovada.lv/sports/baseball/mlb/5-inning-lines-odd?overlay=register\n",
    "time.sleep(5)\n",
    "\n",
    "grouped_events1 = driver1.find_element('xpath', '(//div[@class=\"next-events-bucket\"]//div[@class=\"grouped-events\"])[1]')\n",
    "\n",
    "teams1 = grouped_events1.find_elements('xpath', './/span[@class=\"name\"]')\n",
    "\n",
    "teams_list1 = []\n",
    "\n",
    "for team in teams1:\n",
    "    teams_list1.append(team.text)\n",
    "\n",
    "teams_away1 = teams_list1[::2]\n",
    "teams_home1 = teams_list1[1::2]\n",
    "\n",
    "scores1 = grouped_events1.find_elements('xpath', './/span[@class=\"market-line bet-handicap both-handicaps\"]')\n",
    "\n",
    "total1 = []\n",
    "\n",
    "for score in scores1:\n",
    "    total1.append(score.text)\n",
    "\n",
    "for team_away, team_home, score in zip(teams_away1, teams_home1, total1):\n",
    "    print(f\"{team_away}: Away\")\n",
    "    print(f\"{team_home}: Home\")\n",
    "    print(f\"Total: {score}\")\n",
    "    print()\n",
    "\n",
    "driver1.quit()"
   ]
  },
  {
   "cell_type": "markdown",
   "id": "5e0f9cca",
   "metadata": {},
   "source": [
    "### Creating 5-Inning-lines DataFrame"
   ]
  },
  {
   "cell_type": "code",
   "execution_count": 46,
   "id": "1f62d4f2",
   "metadata": {},
   "outputs": [
    {
     "data": {
      "text/html": [
       "<div>\n",
       "<style scoped>\n",
       "    .dataframe tbody tr th:only-of-type {\n",
       "        vertical-align: middle;\n",
       "    }\n",
       "\n",
       "    .dataframe tbody tr th {\n",
       "        vertical-align: top;\n",
       "    }\n",
       "\n",
       "    .dataframe thead th {\n",
       "        text-align: right;\n",
       "    }\n",
       "</style>\n",
       "<table border=\"1\" class=\"dataframe\">\n",
       "  <thead>\n",
       "    <tr style=\"text-align: right;\">\n",
       "      <th></th>\n",
       "      <th>Away</th>\n",
       "      <th>Home</th>\n",
       "      <th>Total</th>\n",
       "    </tr>\n",
       "  </thead>\n",
       "  <tbody>\n",
       "    <tr>\n",
       "      <th>0</th>\n",
       "      <td>Pittsburgh Pirates</td>\n",
       "      <td>San Diego Padres</td>\n",
       "      <td>4.5</td>\n",
       "    </tr>\n",
       "    <tr>\n",
       "      <th>1</th>\n",
       "      <td>St. Louis Cardinals</td>\n",
       "      <td>Arizona Diamondbacks</td>\n",
       "      <td>4.5</td>\n",
       "    </tr>\n",
       "    <tr>\n",
       "      <th>2</th>\n",
       "      <td>Toronto Blue Jays</td>\n",
       "      <td>Los Angeles Dodgers</td>\n",
       "      <td>6.0</td>\n",
       "    </tr>\n",
       "  </tbody>\n",
       "</table>\n",
       "</div>"
      ],
      "text/plain": [
       "                  Away                  Home Total\n",
       "0   Pittsburgh Pirates      San Diego Padres   4.5\n",
       "1  St. Louis Cardinals  Arizona Diamondbacks   4.5\n",
       "2    Toronto Blue Jays   Los Angeles Dodgers   6.0"
      ]
     },
     "execution_count": 46,
     "metadata": {},
     "output_type": "execute_result"
    }
   ],
   "source": [
    "data1 = list(zip(teams_away1, teams_home1, total1))\n",
    "\n",
    "inninglines_df = pd.DataFrame(data1, columns=['Away', 'Home', 'Total'])\n",
    "inninglines_df"
   ]
  },
  {
   "cell_type": "markdown",
   "id": "abd15b82",
   "metadata": {},
   "source": [
    "### Move the DataFrames to a spreadsheet"
   ]
  },
  {
   "cell_type": "code",
   "execution_count": 61,
   "id": "d18b6fb2",
   "metadata": {},
   "outputs": [
    {
     "name": "stdout",
     "output_type": "stream",
     "text": [
      "DataFrames have been successfully moved to Google Sheets.\n"
     ]
    }
   ],
   "source": [
    "# Service authentication data\n",
    "scope = ['https://spreadsheets.google.com/feeds', 'https://www.googleapis.com/auth/drive']\n",
    "credentials = ServiceAccountCredentials.from_json_keyfile_name('sportsbookscraping-da08350e1110.json', scope)\n",
    "\n",
    "# Authenticate the service account\n",
    "gc = gspread.authorize(credentials)\n",
    "\n",
    "# Opens the spreadsheet\n",
    "sh = gc.open_by_url('https://docs.google.com/spreadsheets/d/18ulEvud026DINujAW1e1nzgyjj-m-XT0PvNemaydhAc/edit#gid=0')\n",
    "\n",
    "# Get the first sheet of the file (you can change the index if there are multiple sheets)\n",
    "worksheet = sh.get_worksheet(0)\n",
    "\n",
    "# Clear the existing data in the worksheet\n",
    "worksheet.clear()\n",
    "\n",
    "dataframe1 = gamelines_df\n",
    "dataframe2 = inninglines_df\n",
    "\n",
    "data_gamelines = [dataframe1.columns.tolist()] + dataframe1.values.tolist()\n",
    "data_inninglines = [dataframe2.columns.tolist()] + dataframe2.values.tolist()\n",
    "\n",
    "# Write the data to the spreadsheet\n",
    "worksheet.insert_rows(data_gamelines, 1)\n",
    "worksheet.insert_rows(data_inninglines, len(data_gamelines) + 2)\n",
    "\n",
    "# Apply formatting to the entire range of cells\n",
    "cell_range = worksheet.range(f\"A1:{chr(ord('A') + len(data_gamelines[0]) - 1)}{len(data_gamelines) + len(data_inninglines) + 1}\")\n",
    "\n",
    "# Update the worksheet with the modified cell properties\n",
    "worksheet.update_cells(cell_range)\n",
    "\n",
    "print(\"DataFrames have been successfully moved to Google Sheets.\")"
   ]
  }
 ],
 "metadata": {
  "kernelspec": {
   "display_name": "Python 3 (ipykernel)",
   "language": "python",
   "name": "python3"
  },
  "language_info": {
   "codemirror_mode": {
    "name": "ipython",
    "version": 3
   },
   "file_extension": ".py",
   "mimetype": "text/x-python",
   "name": "python",
   "nbconvert_exporter": "python",
   "pygments_lexer": "ipython3",
   "version": "3.9.12"
  }
 },
 "nbformat": 4,
 "nbformat_minor": 5
}
